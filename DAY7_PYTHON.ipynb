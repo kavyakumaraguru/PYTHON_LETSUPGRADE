{
  "nbformat": 4,
  "nbformat_minor": 0,
  "metadata": {
    "colab": {
      "name": "DAY7_PYTHON.ipynb",
      "provenance": [],
      "collapsed_sections": [],
      "authorship_tag": "ABX9TyOlCUtksxUoFy6cu+jP4tyL",
      "include_colab_link": true
    },
    "kernelspec": {
      "name": "python3",
      "display_name": "Python 3"
    }
  },
  "cells": [
    {
      "cell_type": "markdown",
      "metadata": {
        "id": "view-in-github",
        "colab_type": "text"
      },
      "source": [
        "<a href=\"https://colab.research.google.com/github/kavyakumaraguru/PYTHON_LETSUPGRADE/blob/master/DAY7_PYTHON.ipynb\" target=\"_parent\"><img src=\"https://colab.research.google.com/assets/colab-badge.svg\" alt=\"Open In Colab\"/></a>"
      ]
    },
    {
      "cell_type": "markdown",
      "metadata": {
        "id": "ku5aQeX30ej7",
        "colab_type": "text"
      },
      "source": [
        "LETSUPGRADE _PYTHOON_ESSTENTIALS\n",
        "DAY 7 (28/7/2020)\n",
        "NAME : K KAVYA\n",
        "EMAIL kavya.kguru@gmail.com"
      ]
    },
    {
      "cell_type": "markdown",
      "metadata": {
        "id": "UcSQ70o80yJP",
        "colab_type": "text"
      },
      "source": [
        "Question 1 :\n",
        "Use the dictionary,\n",
        " port1 = {21: \"FTP\", 22:\"SSH\", 23: \"telnet\", 80: \"http\"},\n",
        "and make a new dictionary in which keys become values and values become keys,\n",
        " as shown: Port2 = {“FTP\":21, \"SSH\":22, “telnet\":23,\"http\": 80}\n"
      ]
    },
    {
      "cell_type": "code",
      "metadata": {
        "id": "d216hiSY0bDD",
        "colab_type": "code",
        "colab": {
          "base_uri": "https://localhost:8080/",
          "height": 187
        },
        "outputId": "879e7fbd-3dd3-4022-8f46-21ed158d2473"
      },
      "source": [
        "port1 = {21: \"FTP\", 22:\"SSH\", 23: \"telnet\", 80: \"http\"}\n",
        "print(\"port1 is :\")\n",
        "print(port1)\n",
        "print()\n",
        "port2={}\n",
        "for key, value in port1.items(): \n",
        "   if value in port2: \n",
        "       port2[value].append(key) \n",
        "   else: \n",
        "       port2[value]=[key] \n",
        "print (\"Dictionary after swapping is :  \")  \n",
        "print(\"keys: values\") \n",
        "for i in port2: \n",
        "    print(i, \" :\", port2[i])\n",
        "print(port2)"
      ],
      "execution_count": 10,
      "outputs": [
        {
          "output_type": "stream",
          "text": [
            "port1 is :\n",
            "{21: 'FTP', 22: 'SSH', 23: 'telnet', 80: 'http'}\n",
            "\n",
            "Dictionary after swapping is :  \n",
            "keys: values\n",
            "FTP  : [21]\n",
            "SSH  : [22]\n",
            "telnet  : [23]\n",
            "http  : [80]\n",
            "{'FTP': [21], 'SSH': [22], 'telnet': [23], 'http': [80]}\n"
          ],
          "name": "stdout"
        }
      ]
    },
    {
      "cell_type": "markdown",
      "metadata": {
        "id": "vKKkc-9c6D48",
        "colab_type": "text"
      },
      "source": [
        "Question 2:\n",
        "Take a list of tuple as shown below.\n",
        "[(1,2), (3,4), (5,6),(4,5)]\n",
        "Make a new list which contains the sum of the number of tuples.\n",
        "For example\n",
        "Input\n",
        "[(1,2), (3,4), (5,6)]\n",
        "Output\n",
        "[3, 7, 11]"
      ]
    },
    {
      "cell_type": "code",
      "metadata": {
        "id": "QiP2HLr82tOr",
        "colab_type": "code",
        "colab": {
          "base_uri": "https://localhost:8080/",
          "height": 231
        },
        "outputId": "5ae24162-6b69-4cb4-e7c5-76337e783256"
      },
      "source": [
        "List = [(3,19),(7, 31), (1, 12)]\n",
        "# Converting it to a dictionary\n",
        "tup = {i:0 for i, v in List}\n",
        "for key, value in List:\n",
        "   tup =  List[key]+List[value]\n",
        "# using map\n",
        "result = list(map(tuple, tup.items()))\n",
        "print(result)"
      ],
      "execution_count": 25,
      "outputs": [
        {
          "output_type": "error",
          "ename": "IndexError",
          "evalue": "ignored",
          "traceback": [
            "\u001b[0;31m---------------------------------------------------------------------------\u001b[0m",
            "\u001b[0;31mIndexError\u001b[0m                                Traceback (most recent call last)",
            "\u001b[0;32m<ipython-input-25-3bac5990ef84>\u001b[0m in \u001b[0;36m<module>\u001b[0;34m()\u001b[0m\n\u001b[1;32m      3\u001b[0m \u001b[0mtup\u001b[0m \u001b[0;34m=\u001b[0m \u001b[0;34m{\u001b[0m\u001b[0mi\u001b[0m\u001b[0;34m:\u001b[0m\u001b[0;36m0\u001b[0m \u001b[0;32mfor\u001b[0m \u001b[0mi\u001b[0m\u001b[0;34m,\u001b[0m \u001b[0mv\u001b[0m \u001b[0;32min\u001b[0m \u001b[0mList\u001b[0m\u001b[0;34m}\u001b[0m\u001b[0;34m\u001b[0m\u001b[0;34m\u001b[0m\u001b[0m\n\u001b[1;32m      4\u001b[0m \u001b[0;32mfor\u001b[0m \u001b[0mkey\u001b[0m\u001b[0;34m,\u001b[0m \u001b[0mvalue\u001b[0m \u001b[0;32min\u001b[0m \u001b[0mList\u001b[0m\u001b[0;34m:\u001b[0m\u001b[0;34m\u001b[0m\u001b[0;34m\u001b[0m\u001b[0m\n\u001b[0;32m----> 5\u001b[0;31m    \u001b[0mtup\u001b[0m \u001b[0;34m=\u001b[0m  \u001b[0mList\u001b[0m\u001b[0;34m[\u001b[0m\u001b[0mkey\u001b[0m\u001b[0;34m]\u001b[0m\u001b[0;34m+\u001b[0m\u001b[0mList\u001b[0m\u001b[0;34m[\u001b[0m\u001b[0mvalue\u001b[0m\u001b[0;34m]\u001b[0m\u001b[0;34m\u001b[0m\u001b[0;34m\u001b[0m\u001b[0m\n\u001b[0m\u001b[1;32m      6\u001b[0m \u001b[0;31m# using map\u001b[0m\u001b[0;34m\u001b[0m\u001b[0;34m\u001b[0m\u001b[0;34m\u001b[0m\u001b[0m\n\u001b[1;32m      7\u001b[0m \u001b[0mresult\u001b[0m \u001b[0;34m=\u001b[0m \u001b[0mlist\u001b[0m\u001b[0;34m(\u001b[0m\u001b[0mmap\u001b[0m\u001b[0;34m(\u001b[0m\u001b[0mtuple\u001b[0m\u001b[0;34m,\u001b[0m \u001b[0mtup\u001b[0m\u001b[0;34m.\u001b[0m\u001b[0mitems\u001b[0m\u001b[0;34m(\u001b[0m\u001b[0;34m)\u001b[0m\u001b[0;34m)\u001b[0m\u001b[0;34m)\u001b[0m\u001b[0;34m\u001b[0m\u001b[0;34m\u001b[0m\u001b[0m\n",
            "\u001b[0;31mIndexError\u001b[0m: list index out of range"
          ]
        }
      ]
    },
    {
      "cell_type": "code",
      "metadata": {
        "id": "wxgDSENIEMdr",
        "colab_type": "code",
        "colab": {}
      },
      "source": [
        ""
      ],
      "execution_count": null,
      "outputs": []
    }
  ]
}