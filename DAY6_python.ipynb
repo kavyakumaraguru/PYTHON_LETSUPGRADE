{
  "nbformat": 4,
  "nbformat_minor": 0,
  "metadata": {
    "colab": {
      "name": "DAY6_python.ipynb",
      "provenance": [],
      "authorship_tag": "ABX9TyP7yXGVNT1q7L87+iLOz2uo",
      "include_colab_link": true
    },
    "kernelspec": {
      "name": "python3",
      "display_name": "Python 3"
    }
  },
  "cells": [
    {
      "cell_type": "markdown",
      "metadata": {
        "id": "view-in-github",
        "colab_type": "text"
      },
      "source": [
        "<a href=\"https://colab.research.google.com/github/kavyakumaraguru/PYTHON_LETSUPGRADE/blob/master/DAY6_python.ipynb\" target=\"_parent\"><img src=\"https://colab.research.google.com/assets/colab-badge.svg\" alt=\"Open In Colab\"/></a>"
      ]
    },
    {
      "cell_type": "markdown",
      "metadata": {
        "id": "UIiJ-I6lCXzT",
        "colab_type": "text"
      },
      "source": [
        "DAY 6 (27/7/2020)\n",
        " PYTHON ESSTENTIALS \n",
        "NAME : K KAVYA \n",
        "EMAIL : kavya.kguru@gmail.com"
      ]
    },
    {
      "cell_type": "markdown",
      "metadata": {
        "id": "j3Dx06L-CmGE",
        "colab_type": "text"
      },
      "source": [
        "QUESTION 1 :\n",
        "List1 = [1,2,3,4,5,7,8]\n",
        "List2 = [“a”, “b”, “c”, “d”, “e”]\n",
        "Convert to a dictionary in one line code using list comprehension (without using zip method)"
      ]
    },
    {
      "cell_type": "code",
      "metadata": {
        "id": "ZXicWLzw_QoI",
        "colab_type": "code",
        "colab": {
          "base_uri": "https://localhost:8080/",
          "height": 68
        },
        "outputId": "f703ddb0-6f5f-44ec-f14c-1d84ae6fe790"
      },
      "source": [
        "# Python3 code to demonstrate  \n",
        "# conversion of lists to dictionary \n",
        "# using dictionary comprehension \n",
        "  \n",
        "# initializing lists \n",
        "test_values = [1, 2, 3, 4, 5, 7, 8] \n",
        "test_keys = [\"a\", \"b\", \"c\",\"d\",\"e\"] \n",
        "  \n",
        "# Printing original keys-value lists \n",
        "print (\"Original key list is : \" + str(test_keys)) \n",
        "print (\"Original value list is : \" + str(test_values)) \n",
        "  \n",
        "# using dictionary comprehension \n",
        "# to convert lists to dictionary \n",
        "res = {test_keys[i]: test_values[i] for i in range(len(test_keys))} \n",
        "  \n",
        "# Printing resultant dictionary  \n",
        "print (\"Resultant dictionary is : \" +  str(res)) \n"
      ],
      "execution_count": 3,
      "outputs": [
        {
          "output_type": "stream",
          "text": [
            "Original key list is : ['a', 'b', 'c', 'd', 'e']\n",
            "Original value list is : [1, 2, 3, 4, 5, 7, 8]\n",
            "Resultant dictionary is : {'a': 1, 'b': 2, 'c': 3, 'd': 4, 'e': 5}\n"
          ],
          "name": "stdout"
        }
      ]
    },
    {
      "cell_type": "code",
      "metadata": {
        "id": "1SfVZkgDC3wg",
        "colab_type": "code",
        "colab": {}
      },
      "source": [
        ""
      ],
      "execution_count": null,
      "outputs": []
    }
  ]
}