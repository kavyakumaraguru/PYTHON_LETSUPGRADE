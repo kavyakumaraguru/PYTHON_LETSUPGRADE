{
  "nbformat": 4,
  "nbformat_minor": 0,
  "metadata": {
    "colab": {
      "name": "Day4_python.ipynb",
      "provenance": [],
      "collapsed_sections": [],
      "authorship_tag": "ABX9TyM5q3kNZ1Ecf9RvOEWwvQNm",
      "include_colab_link": true
    },
    "kernelspec": {
      "name": "python3",
      "display_name": "Python 3"
    }
  },
  "cells": [
    {
      "cell_type": "markdown",
      "metadata": {
        "id": "view-in-github",
        "colab_type": "text"
      },
      "source": [
        "<a href=\"https://colab.research.google.com/github/kavyakumaraguru/PYTHON_LETSUPGRADE/blob/master/Day4_python.ipynb\" target=\"_parent\"><img src=\"https://colab.research.google.com/assets/colab-badge.svg\" alt=\"Open In Colab\"/></a>"
      ]
    },
    {
      "cell_type": "markdown",
      "metadata": {
        "id": "n_TIJg0CpR79",
        "colab_type": "text"
      },
      "source": [
        "LETSUPGRADE_PYTHON_ESSTENTIALS\n",
        " DAY 4 (23/7/2020)\n",
        " NAME : K KAVYA \n",
        " EMAIL : kavya.kgurU@gmail.com\n",
        "\n",
        "\n",
        "\n",
        "\n"
      ]
    },
    {
      "cell_type": "markdown",
      "metadata": {
        "id": "lQx8qbYpqKT5",
        "colab_type": "text"
      },
      "source": [
        "QUESTION 1 \n",
        "\n",
        "Find all occurrence of substring in the given string\n",
        "\n",
        "“what we think we become; we are Python programmer”"
      ]
    },
    {
      "cell_type": "code",
      "metadata": {
        "id": "jh7PWuKbncHJ",
        "colab_type": "code",
        "colab": {
          "base_uri": "https://localhost:8080/",
          "height": 68
        },
        "outputId": "ed75a7f6-ef62-4427-ffc7-02f21e067634"
      },
      "source": [
        "# initializing string  \n",
        "test_str = \"what we think we become; we are Python programmer\"\n",
        "  \n",
        "# initializing substring \n",
        "test_sub = \"we\"\n",
        "  \n",
        "# printing original string  \n",
        "print(\"The original string is : \" + test_str) \n",
        "  \n",
        "# printing substring  \n",
        "print(\"The substring to find : \" + test_sub) \n",
        "  \n",
        "# using list comprehension + startswith() \n",
        "# All occurrences of substring in string  \n",
        "res = [i for i in range(len(test_str)) if test_str.startswith(test_sub, i)] \n",
        "  \n",
        "# printing result  \n",
        "print(\"The start indices of the substrings are : \" + str(res)) "
      ],
      "execution_count": 1,
      "outputs": [
        {
          "output_type": "stream",
          "text": [
            "The original string is : what we think we become; we are Python programmer\n",
            "The substring to find : we\n",
            "The start indices of the substrings are : [5, 14, 25]\n"
          ],
          "name": "stdout"
        }
      ]
    },
    {
      "cell_type": "markdown",
      "metadata": {
        "id": "ErvvZDfwuVyX",
        "colab_type": "text"
      },
      "source": [
        "Question 2 :\n",
        "Explain using\n",
        "islower()\n",
        "isupper()\n",
        "with different kinds of strings."
      ]
    },
    {
      "cell_type": "code",
      "metadata": {
        "id": "kPPKvXfevKFK",
        "colab_type": "code",
        "colab": {
          "base_uri": "https://localhost:8080/",
          "height": 119
        },
        "outputId": "235d88ff-7c3c-40e0-b0ff-dd56c5da1d71"
      },
      "source": [
        "str1=\"hi kavya today is day4 of python class\"\n",
        "str2 = \"WORD HARD UTILL YOU ACHIEVE YOUR GOALS\"\n",
        "x=str1.islower()\n",
        "y=str1.isupper()\n",
        "a=str2.islower()\n",
        "b=str2.isupper()\n",
        "print(x)\n",
        "print(y)\n",
        "print(a)\n",
        "print(b)\n",
        "\n",
        "z=str1.lower()\n",
        "v=str1.upper()\n",
        "print(z)\n",
        "print(v)"
      ],
      "execution_count": 9,
      "outputs": [
        {
          "output_type": "stream",
          "text": [
            "True\n",
            "False\n",
            "False\n",
            "True\n",
            "hi kavya today is day4 of python class\n",
            "HI KAVYA TODAY IS DAY4 OF PYTHON CLASS\n"
          ],
          "name": "stdout"
        }
      ]
    },
    {
      "cell_type": "code",
      "metadata": {
        "id": "5WlMUstavUjD",
        "colab_type": "code",
        "colab": {}
      },
      "source": [
        ""
      ],
      "execution_count": null,
      "outputs": []
    }
  ]
}