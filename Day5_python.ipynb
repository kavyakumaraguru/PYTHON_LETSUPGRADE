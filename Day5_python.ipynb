{
  "nbformat": 4,
  "nbformat_minor": 0,
  "metadata": {
    "colab": {
      "name": "Day5_python.ipynb",
      "provenance": [],
      "collapsed_sections": [],
      "authorship_tag": "ABX9TyP2cSpYVD6jIqsy36lMCgzX",
      "include_colab_link": true
    },
    "kernelspec": {
      "name": "python3",
      "display_name": "Python 3"
    }
  },
  "cells": [
    {
      "cell_type": "markdown",
      "metadata": {
        "id": "view-in-github",
        "colab_type": "text"
      },
      "source": [
        "<a href=\"https://colab.research.google.com/github/kavyakumaraguru/PYTHON_LETSUPGRADE/blob/master/Day5_python.ipynb\" target=\"_parent\"><img src=\"https://colab.research.google.com/assets/colab-badge.svg\" alt=\"Open In Colab\"/></a>"
      ]
    },
    {
      "cell_type": "markdown",
      "metadata": {
        "id": "t_Y5czj_yXPy",
        "colab_type": "text"
      },
      "source": [
        "LETSUPGRADE_PYTHON_ESSTENTIALS\n",
        "DAY 5\n",
        "NAME : K KAVYA\n",
        "EMAIL : kavya.kguru@gmail.com\n"
      ]
    },
    {
      "cell_type": "markdown",
      "metadata": {
        "id": "SzSxGiIsyukx",
        "colab_type": "text"
      },
      "source": [
        "Question 1 :\n",
        "[0,1,2,10,4,1,0,56,2,0,1,3,0,56,0,4]\n",
        "Sort by increasing order but all zeros should be at the right hand side."
      ]
    },
    {
      "cell_type": "code",
      "metadata": {
        "id": "JBLOuFkjxsi2",
        "colab_type": "code",
        "colab": {
          "base_uri": "https://localhost:8080/",
          "height": 51
        },
        "outputId": "e3db99a4-bc06-4f56-cf5c-0fc18b20496c"
      },
      "source": [
        "# Python3 code to move all zeroes \n",
        "# at the end of array \n",
        " \n",
        "def pushZerosToEnd(arr, n): \n",
        "    count = 0 \n",
        "      \n",
        "    for i in range(n): \n",
        "        if arr[i] != 0: \n",
        "      \n",
        "            arr[count] = arr[i] \n",
        "            count+=1\n",
        "      \n",
        "    while count < n: \n",
        "        arr[count] = 0\n",
        "        count += 1\n",
        "          \n",
        "# Driver code \n",
        "arr = [0,1,2,10,4,1,0,56,2,0,1,3,0,56,0,4] \n",
        "n = len(arr) \n",
        "pushZerosToEnd(arr, n) \n",
        "print(\"Array after pushing all zeros to end of array:\") \n",
        "print(arr)"
      ],
      "execution_count": 2,
      "outputs": [
        {
          "output_type": "stream",
          "text": [
            "Array after pushing all zeros to end of array:\n",
            "[1, 2, 10, 4, 1, 56, 2, 1, 3, 56, 4, 0, 0, 0, 0, 0]\n"
          ],
          "name": "stdout"
        }
      ]
    },
    {
      "cell_type": "markdown",
      "metadata": {
        "id": "6ggyCVXGyEDH",
        "colab_type": "text"
      },
      "source": [
        "\n",
        "Question 2 :\n",
        "list1=[10,20,40,60,70,80] sorted list\n",
        "list2=[5,15,25,35,45,60] sorted list\n",
        "Merge these two sorted lists to produce one sorted list, but use only loop either while or for only one time."
      ]
    },
    {
      "cell_type": "code",
      "metadata": {
        "id": "t_IIyQgO0cjT",
        "colab_type": "code",
        "colab": {
          "base_uri": "https://localhost:8080/",
          "height": 68
        },
        "outputId": "380f1d51-7e08-4536-f682-21509f4bd7bf"
      },
      "source": [
        " \n",
        "  \n",
        "# initializing\n",
        "test_list1 = [10,20,40,60,70,80] \n",
        "test_list2 = [5,15,25,35,45,60] \n",
        "  \n",
        "# printing original lists  \n",
        "print (\"The original list 1 is : \" + str(test_list1)) \n",
        "print (\"The original list 2 is : \" + str(test_list2)) \n",
        "  \n",
        "# using sorted() \n",
        "# to combine two sorted lists \n",
        "res = sorted(test_list1 + test_list2) \n",
        "  \n",
        "# printing result \n",
        "print (\"The combined sorted list is : \" + str(res)) \n"
      ],
      "execution_count": 3,
      "outputs": [
        {
          "output_type": "stream",
          "text": [
            "The original list 1 is : [10, 20, 40, 60, 70, 80]\n",
            "The original list 2 is : [5, 15, 25, 35, 45, 60]\n",
            "The combined sorted list is : [5, 10, 15, 20, 25, 35, 40, 45, 60, 60, 70, 80]\n"
          ],
          "name": "stdout"
        }
      ]
    },
    {
      "cell_type": "code",
      "metadata": {
        "id": "-P4wPnjv0sbo",
        "colab_type": "code",
        "colab": {}
      },
      "source": [
        ""
      ],
      "execution_count": null,
      "outputs": []
    }
  ]
}