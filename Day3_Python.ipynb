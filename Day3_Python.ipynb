{
  "nbformat": 4,
  "nbformat_minor": 0,
  "metadata": {
    "colab": {
      "name": "DayPython3.ipynb",
      "provenance": [],
      "collapsed_sections": [],
      "authorship_tag": "ABX9TyNKDR+kqh/qNFZhJ4S/JDks",
      "include_colab_link": true
    },
    "kernelspec": {
      "name": "python3",
      "display_name": "Python 3"
    }
  },
  "cells": [
    {
      "cell_type": "markdown",
      "metadata": {
        "id": "view-in-github",
        "colab_type": "text"
      },
      "source": [
        "<a href=\"https://colab.research.google.com/github/kavyakumaraguru/PYTHON_LETSUPGRADE/blob/master/Day3_Python.ipynb\" target=\"_parent\"><img src=\"https://colab.research.google.com/assets/colab-badge.svg\" alt=\"Open In Colab\"/></a>"
      ]
    },
    {
      "cell_type": "markdown",
      "metadata": {
        "id": "tFzuA1G1lV2M",
        "colab_type": "text"
      },
      "source": [
        "DAY 3  LETSUPGRADE PYTHON ESSTENTIALS \n",
        "NAME : K KAVYA\n",
        "EMAIL : kavya.kguru@gmail.com\n",
        "\n",
        "\n",
        "Question 1 :\n",
        "Find sum of n numbers with help of while loop.\n",
        "\n"
      ]
    },
    {
      "cell_type": "code",
      "metadata": {
        "id": "6MODdl8Ck2CH",
        "colab_type": "code",
        "colab": {
          "base_uri": "https://localhost:8080/",
          "height": 34
        },
        "outputId": "4cb81cfa-d298-40ee-c3cc-0604ab57279e"
      },
      "source": [
        "# Sum of natural numbers up to num\n",
        "\n",
        "num = 20\n",
        "\n",
        "if num < 0:\n",
        "   print(\"Enter a positive number\")\n",
        "else:\n",
        "   sum = 0\n",
        "   # use while loop to iterate until zero\n",
        "   while(num > 0):\n",
        "       sum += num\n",
        "       num -= 1\n",
        "   print(\"The sum is\", sum)"
      ],
      "execution_count": 5,
      "outputs": [
        {
          "output_type": "stream",
          "text": [
            "The sum is 210\n"
          ],
          "name": "stdout"
        }
      ]
    },
    {
      "cell_type": "markdown",
      "metadata": {
        "id": "a9cuS3tflmwc",
        "colab_type": "text"
      },
      "source": [
        "\n",
        "Question 2 :\n",
        "Take an integer and find whether the number is prime or not.\n",
        "\n"
      ]
    },
    {
      "cell_type": "code",
      "metadata": {
        "id": "VxzQbfH4ll0o",
        "colab_type": "code",
        "colab": {
          "base_uri": "https://localhost:8080/",
          "height": 34
        },
        "outputId": "d042663a-7df0-43b0-d83e-9bd65360e0a9"
      },
      "source": [
        "# Program to check if a number is prime or not\n",
        "\n",
        "num = 407\n",
        "\n",
        "# To take input from the user\n",
        "#num = int(input(\"Enter a number: \"))\n",
        "\n",
        "# prime numbers are greater than 1\n",
        "if num > 1:\n",
        "   # check for factors\n",
        "   for i in range(2,num):\n",
        "       if (num % i) == 0:\n",
        "           print(num,\"is not a prime number\")\n",
        "           break\n",
        "   else:\n",
        "       print(num,\"is a prime number\")\n",
        "       \n",
        "# if input number is less than\n",
        "# or equal to 1, it is not prime\n",
        "else:\n",
        "   print(num,\"is not a prime number\")"
      ],
      "execution_count": 7,
      "outputs": [
        {
          "output_type": "stream",
          "text": [
            "407 is not a prime number\n"
          ],
          "name": "stdout"
        }
      ]
    },
    {
      "cell_type": "code",
      "metadata": {
        "id": "jKXC-LbGmdVE",
        "colab_type": "code",
        "colab": {}
      },
      "source": [
        ""
      ],
      "execution_count": null,
      "outputs": []
    }
  ]
}