{
  "nbformat": 4,
  "nbformat_minor": 0,
  "metadata": {
    "colab": {
      "name": "PYTHONDAY2.ipynb",
      "provenance": [],
      "collapsed_sections": [],
      "authorship_tag": "ABX9TyM4v1t9ToqTWYM7NP7c0S7L",
      "include_colab_link": true
    },
    "kernelspec": {
      "name": "python3",
      "display_name": "Python 3"
    }
  },
  "cells": [
    {
      "cell_type": "markdown",
      "metadata": {
        "id": "view-in-github",
        "colab_type": "text"
      },
      "source": [
        "<a href=\"https://colab.research.google.com/github/kavyakumaraguru/PYTHON_LETSUPGRADE/blob/master/DAY2.ipynb\" target=\"_parent\"><img src=\"https://colab.research.google.com/assets/colab-badge.svg\" alt=\"Open In Colab\"/></a>"
      ]
    },
    {
      "cell_type": "markdown",
      "metadata": {
        "id": "D9wySACODZO4",
        "colab_type": "text"
      },
      "source": [
        "DAY 2 \n",
        "KAVYA K\n",
        "EMAIL : kavya.kguru@gmail.com \n",
        "\n",
        "PYTHON BASIC SYNTAX\n",
        "1. BACK SLASH\n",
        "2. TRIPLE QUOTES\n",
        "3. STRING INSIDE THE QUOTES\n",
        "4. ESCAPE SEQUENCE OF STRING\n",
        "5. FORMATTED OUTPUT "
      ]
    },
    {
      "cell_type": "markdown",
      "metadata": {
        "id": "5f22tzVGDH9V",
        "colab_type": "text"
      },
      "source": [
        ""
      ]
    },
    {
      "cell_type": "code",
      "metadata": {
        "id": "7z42HoIZEUQ4",
        "colab_type": "code",
        "colab": {
          "base_uri": "https://localhost:8080/",
          "height": 34
        },
        "outputId": "50c53601-f70a-4fee-cd6b-e363c588c3ab"
      },
      "source": [
        "print(\"hello \\\n",
        "kavya\")"
      ],
      "execution_count": 1,
      "outputs": [
        {
          "output_type": "stream",
          "text": [
            "hello kavya\n"
          ],
          "name": "stdout"
        }
      ]
    },
    {
      "cell_type": "code",
      "metadata": {
        "id": "LE4PE1HUEn1B",
        "colab_type": "code",
        "colab": {
          "base_uri": "https://localhost:8080/",
          "height": 34
        },
        "outputId": "91784fb9-cf1f-4485-c4c2-f94ed2e894cc"
      },
      "source": [
        "print(\"\"\"HII THERE\"\"\")"
      ],
      "execution_count": 3,
      "outputs": [
        {
          "output_type": "stream",
          "text": [
            "HII THERE\n"
          ],
          "name": "stdout"
        }
      ]
    },
    {
      "cell_type": "code",
      "metadata": {
        "id": "dm2iblcPE1sP",
        "colab_type": "code",
        "colab": {
          "base_uri": "https://localhost:8080/",
          "height": 34
        },
        "outputId": "3906d306-825e-4c57-cab6-6a74b08c8f05"
      },
      "source": [
        "print(\"kavya's friend is priya\")"
      ],
      "execution_count": 4,
      "outputs": [
        {
          "output_type": "stream",
          "text": [
            "kavya's friend is priya\n"
          ],
          "name": "stdout"
        }
      ]
    },
    {
      "cell_type": "code",
      "metadata": {
        "id": "LOwFZ9WwFLlN",
        "colab_type": "code",
        "colab": {
          "base_uri": "https://localhost:8080/",
          "height": 34
        },
        "outputId": "590120ff-49b1-4f62-c2be-3311d9f47766"
      },
      "source": [
        "print(\"print kavya with a \\t space\")"
      ],
      "execution_count": 5,
      "outputs": [
        {
          "output_type": "stream",
          "text": [
            "print kavya with a \t space\n"
          ],
          "name": "stdout"
        }
      ]
    },
    {
      "cell_type": "code",
      "metadata": {
        "id": "-iu6Pzi1FSyU",
        "colab_type": "code",
        "colab": {
          "base_uri": "https://localhost:8080/",
          "height": 51
        },
        "outputId": "a42f6050-41f8-432d-ebe4-4ac8a7c8fc1a"
      },
      "source": [
        "print(\"print \\n kavya\")"
      ],
      "execution_count": 6,
      "outputs": [
        {
          "output_type": "stream",
          "text": [
            "print \n",
            " kavya\n"
          ],
          "name": "stdout"
        }
      ]
    },
    {
      "cell_type": "code",
      "metadata": {
        "id": "XRSJ9USCFXOQ",
        "colab_type": "code",
        "colab": {
          "base_uri": "https://localhost:8080/",
          "height": 34
        },
        "outputId": "9683d9ca-a8ca-4ba6-8070-7d982d15b13b"
      },
      "source": [
        "name=\"kavya\"\n",
        "age=\"22\"\n",
        "degree=\"Mtech\"\n",
        "print(name, \"is\",age,\"year old\",\"she is pursuing \",degree)"
      ],
      "execution_count": 7,
      "outputs": [
        {
          "output_type": "stream",
          "text": [
            "kavya is 22 year old she is pursuing  Mtech\n"
          ],
          "name": "stdout"
        }
      ]
    },
    {
      "cell_type": "markdown",
      "metadata": {
        "id": "x0JBiCM3GuYt",
        "colab_type": "text"
      },
      "source": [
        "2.PYTHON VARIABLES\n"
      ]
    },
    {
      "cell_type": "code",
      "metadata": {
        "id": "fmG54gNTG-rC",
        "colab_type": "code",
        "colab": {
          "base_uri": "https://localhost:8080/",
          "height": 68
        },
        "outputId": "42316c79-9604-40c9-b1b9-72037114a7f8"
      },
      "source": [
        "A=10\n",
        "b=20\n",
        "c=b\n",
        "Name_stud1=\"kavya\"\n",
        "print(A+b)\n",
        "print(Name_stud1)\n",
        "print(c)"
      ],
      "execution_count": 13,
      "outputs": [
        {
          "output_type": "stream",
          "text": [
            "30\n",
            "kavya\n",
            "20\n"
          ],
          "name": "stdout"
        }
      ]
    },
    {
      "cell_type": "markdown",
      "metadata": {
        "id": "UFFt0z44Hnzf",
        "colab_type": "text"
      },
      "source": [
        "3.PYTHON OPERATORS\n",
        "A) ARITHMATIC OPERATORS\n",
        "B)COMPARISON\n",
        "C)ASSIGNMNET\n",
        "D)BITWISE\n",
        "E)LOGICAL\n",
        "F)MEMBERSHIP\n",
        "G)IDENTITY"
      ]
    },
    {
      "cell_type": "markdown",
      "metadata": {
        "id": "lDMwsZPDHRr5",
        "colab_type": "text"
      },
      "source": [
        ""
      ]
    },
    {
      "cell_type": "markdown",
      "metadata": {
        "id": "sney4-tgIj5D",
        "colab_type": "text"
      },
      "source": [
        "A) ARITHMETIC\n"
      ]
    },
    {
      "cell_type": "code",
      "metadata": {
        "id": "FTgVK3B8Itc1",
        "colab_type": "code",
        "colab": {
          "base_uri": "https://localhost:8080/",
          "height": 136
        },
        "outputId": "125cd5b5-cb8b-4ff0-8656-57541723d7a2"
      },
      "source": [
        "x=5\n",
        "y=10\n",
        "\n",
        "print(x+y) #addition\n",
        "print(y-x) #sub\n",
        "print(y/x) #division\n",
        "print(x**y) #expo\n",
        "print(y%x) #remdr\n",
        "print(x*y) #mul\n",
        "print(x//y) #floor"
      ],
      "execution_count": 17,
      "outputs": [
        {
          "output_type": "stream",
          "text": [
            "15\n",
            "5\n",
            "2.0\n",
            "9765625\n",
            "0\n",
            "50\n",
            "0\n"
          ],
          "name": "stdout"
        }
      ]
    },
    {
      "cell_type": "markdown",
      "metadata": {
        "id": "48Wd2QlVJeFq",
        "colab_type": "text"
      },
      "source": [
        "B)COMPARISON OPERATOR"
      ]
    },
    {
      "cell_type": "code",
      "metadata": {
        "id": "WWvz5rPmJjnI",
        "colab_type": "code",
        "colab": {
          "base_uri": "https://localhost:8080/",
          "height": 119
        },
        "outputId": "0b43a057-df51-42cd-c239-a92392a0f9f0"
      },
      "source": [
        "x=10\n",
        "y=5\n",
        "print(x>y)\n",
        "print(x<y)\n",
        "print(x==y)\n",
        "print(x<=y)\n",
        "print(x>=y)\n",
        "print(x!=y)"
      ],
      "execution_count": 18,
      "outputs": [
        {
          "output_type": "stream",
          "text": [
            "True\n",
            "False\n",
            "False\n",
            "False\n",
            "True\n",
            "True\n"
          ],
          "name": "stdout"
        }
      ]
    },
    {
      "cell_type": "markdown",
      "metadata": {
        "id": "X1wcX88VKW-G",
        "colab_type": "text"
      },
      "source": [
        "c)ASSIGNMNET OPERATOR"
      ]
    },
    {
      "cell_type": "code",
      "metadata": {
        "id": "micoUQzJKc_7",
        "colab_type": "code",
        "colab": {
          "base_uri": "https://localhost:8080/",
          "height": 153
        },
        "outputId": "de4f9cb9-5f2d-42d6-e941-38cba88f3f82"
      },
      "source": [
        "x=5\n",
        "y=10\n",
        "x=y\n",
        "\n",
        "print(x)\n",
        "x+=y\n",
        "print(x)\n",
        "x-=y\n",
        "print(x)\n",
        "x*=y\n",
        "print(x)\n",
        "x/=y\n",
        "print(x)\n",
        "x%=y\n",
        "print(x)\n",
        "x=10\n",
        "x//=y\n",
        "print(x)\n",
        "x=10\n",
        "x**=y\n",
        "print(x)\n"
      ],
      "execution_count": 29,
      "outputs": [
        {
          "output_type": "stream",
          "text": [
            "10\n",
            "20\n",
            "10\n",
            "100\n",
            "10.0\n",
            "0.0\n",
            "1\n",
            "10000000000\n"
          ],
          "name": "stdout"
        }
      ]
    },
    {
      "cell_type": "markdown",
      "metadata": {
        "id": "AAinyzcYL3pW",
        "colab_type": "text"
      },
      "source": [
        "D) BITWISE OPERATOR "
      ]
    },
    {
      "cell_type": "code",
      "metadata": {
        "id": "_bwg4WDXL6W9",
        "colab_type": "code",
        "colab": {
          "base_uri": "https://localhost:8080/",
          "height": 34
        },
        "outputId": "6960a51b-fded-4159-86f9-2698a6889c69"
      },
      "source": [
        "x=10\n",
        "y=20\n",
        "x&y\n",
        "x|y\n",
        "~y\n",
        "x>>2"
      ],
      "execution_count": 35,
      "outputs": [
        {
          "output_type": "execute_result",
          "data": {
            "text/plain": [
              "2"
            ]
          },
          "metadata": {
            "tags": []
          },
          "execution_count": 35
        }
      ]
    },
    {
      "cell_type": "markdown",
      "metadata": {
        "id": "5wfsuPkBMb6o",
        "colab_type": "text"
      },
      "source": [
        "E)LOGICAL OPERATOR"
      ]
    },
    {
      "cell_type": "code",
      "metadata": {
        "id": "YO8BhyDKMikw",
        "colab_type": "code",
        "colab": {
          "base_uri": "https://localhost:8080/",
          "height": 68
        },
        "outputId": "c57dac7a-62db-4a2f-905f-50e435aa0b0c"
      },
      "source": [
        "x=True\n",
        "y=False\n",
        "print(x and y)\n",
        "print(x or y)\n",
        "print(not y)"
      ],
      "execution_count": 38,
      "outputs": [
        {
          "output_type": "stream",
          "text": [
            "False\n",
            "True\n",
            "True\n"
          ],
          "name": "stdout"
        }
      ]
    },
    {
      "cell_type": "markdown",
      "metadata": {
        "id": "MC3BKiPfM9ng",
        "colab_type": "text"
      },
      "source": [
        "F)MEMBERSHIP OPERATOR"
      ]
    },
    {
      "cell_type": "code",
      "metadata": {
        "id": "QeTwvV5sNDFO",
        "colab_type": "code",
        "colab": {
          "base_uri": "https://localhost:8080/",
          "height": 68
        },
        "outputId": "8d9ac312-b161-4221-8a6a-2612ce48efcd"
      },
      "source": [
        "X= \"hi kavya\"\n",
        "print(\"x\" not in  X)\n",
        "print(\"a\" not in X)\n",
        "print(\"a\" in X)"
      ],
      "execution_count": 40,
      "outputs": [
        {
          "output_type": "stream",
          "text": [
            "True\n",
            "False\n",
            "True\n"
          ],
          "name": "stdout"
        }
      ]
    },
    {
      "cell_type": "markdown",
      "metadata": {
        "id": "OriWu055NacE",
        "colab_type": "text"
      },
      "source": [
        "G)IDENTITY OPERATOR"
      ]
    },
    {
      "cell_type": "code",
      "metadata": {
        "id": "YEzSZrbyNruD",
        "colab_type": "code",
        "colab": {
          "base_uri": "https://localhost:8080/",
          "height": 68
        },
        "outputId": "c9a23365-250b-4fae-d335-035e030b3812"
      },
      "source": [
        "x1=20\n",
        "x2=20\n",
        "NAME1=\"KAVYA\"\n",
        "NAME2=\"PAPU\"\n",
        "print(x1 is not x2)\n",
        "print(x1 is x2)\n",
        "print( NAME1 is not NAME2)"
      ],
      "execution_count": 45,
      "outputs": [
        {
          "output_type": "stream",
          "text": [
            "False\n",
            "True\n",
            "True\n"
          ],
          "name": "stdout"
        }
      ]
    }
  ]
}